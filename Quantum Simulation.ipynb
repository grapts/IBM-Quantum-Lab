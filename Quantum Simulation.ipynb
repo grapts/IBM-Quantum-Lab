{
    "cells": [
        {
            "cell_type": "markdown",
            "metadata": {},
            "source": "This code runs a basic digital quantum simulation of the time evolution of a single particle in 1-D space.\nWe follow the general framework introduced in the slides: \n\n1. How do we represent the position and momentum of the particle using qubits?\n\n2. How do we initialize and measure the qubits? \n\n3. How do we simulate time evolution? \n\n4. How do we change between momentum and position bases? \n\n5. How do we implement diagonal unitaries? \n\nThe first two are done naturally using the standard Qiskit operations. Time evolution can be computed using trotterization. The bases changes are done using QFT, since the fourier transform of a particle's state in the momentum basis gives us the state in the position basis. "
        },
        {
            "cell_type": "markdown",
            "metadata": {},
            "source": "### Simulating Time Evolution\nWe will use the following Hamiltonian to simulate time evolution\n\n$\\hat{H} = \\frac{\\hat{p}^2}{2m} + V(\\hat{x})$\n\nwhich can be represented in our circuit using the unitary\n\n$\\hat{U} = \\text{exp}(-i\\hat{H}t / \\hslash)$"
        },
        {
            "cell_type": "markdown",
            "metadata": {},
            "source": "Import the necessary components"
        },
        {
            "cell_type": "code",
            "execution_count": 47,
            "metadata": {},
            "outputs": [],
            "source": "#initialization\nimport matplotlib.pyplot as plt\nimport numpy as np\nimport math\n\n# importing Qiskit\nfrom qiskit import IBMQ, Aer\nfrom qiskit import QuantumCircuit, ClassicalRegister, QuantumRegister, execute\nfrom qiskit.visualization import plot_histogram, plot_bloch_vector\nfrom qiskit.quantum_info import Statevector\n\n# import basic plot tools\nfrom qiskit.visualization import plot_histogram"
        },
        {
            "cell_type": "markdown",
            "metadata": {},
            "source": "# Example 1: Gaussian Wave Function with No Potential\n\n## Outline of Kitaev-Webb Algorithm \nTo prepare the Gaussian wavefunction, we use the Kitaev-Webb Algorithm that is outlined as follows: \n![Outline of Kitaev-Webb](./Kitaev-Webb.png)\n\nThis algorithm can create the state of the periodic discrete Gaussian, which can be expressed recursively as \n\n$\\newcommand{\\bra}[1]{\\left< #1 \\right|}$\n$\\newcommand{\\ket}[1]{\\left| #1 \\right>}$\n\n$$\\ket{\\xi_{\\mu, \\sigma, N}} = \\ket{\\xi_{\\frac{\\mu}{2}, \\frac{\\sigma}{2}, N-1}} \\otimes \\cos(\\alpha) \\ket{0} + \\ket{\\xi_{\\frac{\\mu-1}{2}, \\frac{\\sigma}{2}, N-1}} \\otimes \\sin(\\alpha)\\ket{1} \\tag{11}$$.\n\n\n## Inputs"
        },
        {
            "cell_type": "code",
            "execution_count": 48,
            "metadata": {},
            "outputs": [],
            "source": "mu = 0\nsigma = 1\nk = 3\nN = 3\n\nmu_size = 1  # The number of qubits used to represent mu\nsigma_size = 1  # The number of qubits used to represent sigma"
        },
        {
            "cell_type": "markdown",
            "metadata": {},
            "source": "## Step 1. Creating the initial state"
        },
        {
            "cell_type": "code",
            "execution_count": 49,
            "metadata": {},
            "outputs": [
                {
                    "data": {
                        "text/html": "<pre style=\"word-wrap: normal;white-space: pre;background: #fff0;line-height: 1.1;font-family: &quot;Courier New&quot;,Courier,monospace\">          \n alpha_0: \n          \n alpha_1: \n          \n alpha_2: \n          \n      mu: \n          \n   sigma: \n          \n     n_0: \n          \n     n_1: \n          \n     n_2: \n          \nresult_0: \n          \nresult_1: \n          \nresult_2: \n          </pre>",
                        "text/plain": "          \n alpha_0: \n          \n alpha_1: \n          \n alpha_2: \n          \n      mu: \n          \n   sigma: \n          \n     n_0: \n          \n     n_1: \n          \n     n_2: \n          \nresult_0: \n          \nresult_1: \n          \nresult_2: \n          "
                    },
                    "execution_count": 49,
                    "metadata": {},
                    "output_type": "execute_result"
                }
            ],
            "source": "def binary_approx(n, k):\n    \"\"\"\n    \n    Input:\n        n: real number between 0 and 1\n        k: the number of bits use to approximate n\n        \n    Output: \n        a: a list such that the i-th element is 1 or 0\n    \"\"\"\n    a = []\n    total = 0\n    for i in range(1, k+1):\n        bit = 0\n        if (n > total + 1/2**i): \n            bit = 1\n        else:\n            bit = 0\n        a.append(bit)\n        total += bit/2**i\n    return (a, total)\n\nalpha_register = QuantumRegister(k, 'alpha')\n\nmu_register = QuantumRegister(mu_size, 'mu')\nsigma_register = QuantumRegister(sigma_size, 'sigma')\nN_register = QuantumRegister(N, 'n')\nres_register = QuantumRegister(N, 'result')\n\nqc = QuantumCircuit(alpha_register, mu_register, sigma_register, N_register, res_register)\nqc.draw()\n"
        },
        {
            "cell_type": "markdown",
            "metadata": {},
            "source": "## Step 2. Compute $\\alpha$\n\nThe angle $\\alpha$ is defined as\n\n$$\\alpha = \\cos^{-1}\\left(\\sqrt{\\frac{f(\\mu/2, \\sigma/2)}{f(\\mu, \\sigma)}}\\right). \\tag{12}$$\n\nThe function $f$ is the normalization factor defined as follows: \n\n$$f(\\mu, \\sigma) = \\sum_{n=-\\infty}^{\\infty} e^{-\\frac{(n-\\mu)^2}{\\sigma^2}}. \\tag{7}$$\n\nTo input the value $\\alpha$ into our quantum circuit, we need to approximate this number using the number of qubits we have. Since $0 \\leq \\alpha \\leq 2\\pi$, we can approximate this number using k-digits of binary notation given by the formula $\\frac{\\alpha}{2\\pi} \\approx \\sum_{i=1}^k \\frac{a_i}{2^i}$ that gives us the digits we need to approximate $\\alpha$ as $\\alpha \\approx \\sum_{i=1}^k \\pi\\frac{a_i}{2^{i-1}}$. Here, $a_i$ takes the values either 0 or 1. This binary notation gives us a way to implement the rotation operator as a sequence of $k$ standard rotations as \n$$R(\\alpha) \\approx R(\\pi/2^{k-1})^{\\alpha_k}\\cdots R(\\pi/2^2)^{\\alpha_2}R(\\pi/2)^{\\alpha_1}$$\n\nThe following block implements some routines to implement the functions needed to create $\\alpha$. "
        },
        {
            "cell_type": "code",
            "execution_count": 55,
            "metadata": {},
            "outputs": [
                {
                    "name": "stdout",
                    "output_type": "stream",
                    "text": "0.11143872044136584\n0.109375\n[0, 0, 0, 1, 1, 1]\n"
                }
            ],
            "source": "def f(mu, sigma, n):\n    return np.sum(np.exp((-(np.arange(-n, n+1, 1) - mu)**2)/float(sigma**2)))\n\ndef angle(mu, sigma, n=1000):\n    return np.arccos(math.sqrt(f(mu/2, sigma/2, n)/ f(mu, sigma, n)))\n\n# Example code to verify correctness\nalpha = angle(mu, sigma)/(np.pi*2)\nprecision = 6\n\n(alpha_binary, alpha_approx) = binary_approx(alpha, precision)\n\nprint(alpha)\nprint(alpha_approx)\nprint(alpha_binary)"
        },
        {
            "cell_type": "code",
            "execution_count": 56,
            "metadata": {},
            "outputs": [],
            "source": "def KWA(mu, sigma, k, N):\n    \"\"\"\n    Kitaev-Webb Algorithm to construct the prepare the Gaussian wavefunction\n    Parameters:\n        - mu: mean\n        - sigma: sd\n        - k: \n    \"\"\""
        },
        {
            "cell_type": "code",
            "execution_count": 58,
            "metadata": {},
            "outputs": [
                {
                    "ename": "MissingOptionalLibraryError",
                    "evalue": "\"The 'pylatexenc' library is required to use 'MatplotlibDrawer'. You can install it with 'pip install pylatexenc'.\"",
                    "output_type": "error",
                    "traceback": [
                        "\u001b[0;31m---------------------------------------------------------------------------\u001b[0m",
                        "\u001b[0;31mMissingOptionalLibraryError\u001b[0m               Traceback (most recent call last)",
                        "\u001b[0;32m/tmp/wsuser/ipykernel_218/2108645304.py\u001b[0m in \u001b[0;36m<module>\u001b[0;34m\u001b[0m\n\u001b[1;32m     20\u001b[0m     \u001b[0mqc\u001b[0m\u001b[0;34m.\u001b[0m\u001b[0mh\u001b[0m\u001b[0;34m(\u001b[0m\u001b[0mqubit\u001b[0m\u001b[0;34m)\u001b[0m\u001b[0;34m\u001b[0m\u001b[0;34m\u001b[0m\u001b[0m\n\u001b[1;32m     21\u001b[0m \u001b[0;34m\u001b[0m\u001b[0m\n\u001b[0;32m---> 22\u001b[0;31m \u001b[0mqc\u001b[0m\u001b[0;34m.\u001b[0m\u001b[0mdraw\u001b[0m\u001b[0;34m(\u001b[0m\u001b[0;34m'mpl'\u001b[0m\u001b[0;34m)\u001b[0m\u001b[0;34m\u001b[0m\u001b[0;34m\u001b[0m\u001b[0m\n\u001b[0m",
                        "\u001b[0;32m/opt/conda/envs/Python-3.9/lib/python3.9/site-packages/qiskit/circuit/quantumcircuit.py\u001b[0m in \u001b[0;36mdraw\u001b[0;34m(self, output, scale, filename, style, interactive, plot_barriers, reverse_bits, justify, vertical_compression, idle_wires, with_layout, fold, ax, initial_state, cregbundle)\u001b[0m\n\u001b[1;32m   1833\u001b[0m         \u001b[0;32mfrom\u001b[0m \u001b[0mqiskit\u001b[0m\u001b[0;34m.\u001b[0m\u001b[0mvisualization\u001b[0m \u001b[0;32mimport\u001b[0m \u001b[0mcircuit_drawer\u001b[0m\u001b[0;34m\u001b[0m\u001b[0;34m\u001b[0m\u001b[0m\n\u001b[1;32m   1834\u001b[0m \u001b[0;34m\u001b[0m\u001b[0m\n\u001b[0;32m-> 1835\u001b[0;31m         return circuit_drawer(\n\u001b[0m\u001b[1;32m   1836\u001b[0m             \u001b[0mself\u001b[0m\u001b[0;34m,\u001b[0m\u001b[0;34m\u001b[0m\u001b[0;34m\u001b[0m\u001b[0m\n\u001b[1;32m   1837\u001b[0m             \u001b[0mscale\u001b[0m\u001b[0;34m=\u001b[0m\u001b[0mscale\u001b[0m\u001b[0;34m,\u001b[0m\u001b[0;34m\u001b[0m\u001b[0;34m\u001b[0m\u001b[0m\n",
                        "\u001b[0;32m/opt/conda/envs/Python-3.9/lib/python3.9/site-packages/qiskit/visualization/circuit_visualization.py\u001b[0m in \u001b[0;36mcircuit_drawer\u001b[0;34m(circuit, scale, filename, style, output, interactive, plot_barriers, reverse_bits, justify, vertical_compression, idle_wires, with_layout, fold, ax, initial_state, cregbundle)\u001b[0m\n\u001b[1;32m    229\u001b[0m         )\n\u001b[1;32m    230\u001b[0m     \u001b[0;32melif\u001b[0m \u001b[0moutput\u001b[0m \u001b[0;34m==\u001b[0m \u001b[0;34m\"mpl\"\u001b[0m\u001b[0;34m:\u001b[0m\u001b[0;34m\u001b[0m\u001b[0;34m\u001b[0m\u001b[0m\n\u001b[0;32m--> 231\u001b[0;31m         image = _matplotlib_circuit_drawer(\n\u001b[0m\u001b[1;32m    232\u001b[0m             \u001b[0mcircuit\u001b[0m\u001b[0;34m,\u001b[0m\u001b[0;34m\u001b[0m\u001b[0;34m\u001b[0m\u001b[0m\n\u001b[1;32m    233\u001b[0m             \u001b[0mscale\u001b[0m\u001b[0;34m=\u001b[0m\u001b[0mscale\u001b[0m\u001b[0;34m,\u001b[0m\u001b[0;34m\u001b[0m\u001b[0;34m\u001b[0m\u001b[0m\n",
                        "\u001b[0;32m/opt/conda/envs/Python-3.9/lib/python3.9/site-packages/qiskit/visualization/circuit_visualization.py\u001b[0m in \u001b[0;36m_matplotlib_circuit_drawer\u001b[0;34m(circuit, scale, filename, style, plot_barriers, reverse_bits, justify, idle_wires, with_layout, fold, ax, initial_state, cregbundle)\u001b[0m\n\u001b[1;32m    579\u001b[0m         \u001b[0mfold\u001b[0m \u001b[0;34m=\u001b[0m \u001b[0;36m25\u001b[0m\u001b[0;34m\u001b[0m\u001b[0;34m\u001b[0m\u001b[0m\n\u001b[1;32m    580\u001b[0m \u001b[0;34m\u001b[0m\u001b[0m\n\u001b[0;32m--> 581\u001b[0;31m     qcd = _matplotlib.MatplotlibDrawer(\n\u001b[0m\u001b[1;32m    582\u001b[0m         \u001b[0mqubits\u001b[0m\u001b[0;34m,\u001b[0m\u001b[0;34m\u001b[0m\u001b[0;34m\u001b[0m\u001b[0m\n\u001b[1;32m    583\u001b[0m         \u001b[0mclbits\u001b[0m\u001b[0;34m,\u001b[0m\u001b[0;34m\u001b[0m\u001b[0;34m\u001b[0m\u001b[0m\n",
                        "\u001b[0;32m/opt/conda/envs/Python-3.9/lib/python3.9/site-packages/qiskit/utils/classtools.py\u001b[0m in \u001b[0;36mout\u001b[0;34m(*args, **kwargs)\u001b[0m\n\u001b[1;32m    115\u001b[0m             \u001b[0;32mfor\u001b[0m \u001b[0mcallback\u001b[0m \u001b[0;32min\u001b[0m \u001b[0mself\u001b[0m\u001b[0;34m.\u001b[0m\u001b[0m_before\u001b[0m\u001b[0;34m:\u001b[0m\u001b[0;34m\u001b[0m\u001b[0;34m\u001b[0m\u001b[0m\n\u001b[1;32m    116\u001b[0m                 \u001b[0mcallback\u001b[0m\u001b[0;34m.\u001b[0m\u001b[0m__get__\u001b[0m\u001b[0;34m(\u001b[0m\u001b[0mobj\u001b[0m\u001b[0;34m,\u001b[0m \u001b[0mobjtype\u001b[0m\u001b[0;34m)\u001b[0m\u001b[0;34m(\u001b[0m\u001b[0;34m*\u001b[0m\u001b[0margs\u001b[0m\u001b[0;34m,\u001b[0m \u001b[0;34m**\u001b[0m\u001b[0mkwargs\u001b[0m\u001b[0;34m)\u001b[0m\u001b[0;34m\u001b[0m\u001b[0;34m\u001b[0m\u001b[0m\n\u001b[0;32m--> 117\u001b[0;31m             \u001b[0mretval\u001b[0m \u001b[0;34m=\u001b[0m \u001b[0mmethod\u001b[0m\u001b[0;34m(\u001b[0m\u001b[0;34m*\u001b[0m\u001b[0margs\u001b[0m\u001b[0;34m,\u001b[0m \u001b[0;34m**\u001b[0m\u001b[0mkwargs\u001b[0m\u001b[0;34m)\u001b[0m\u001b[0;34m\u001b[0m\u001b[0;34m\u001b[0m\u001b[0m\n\u001b[0m\u001b[1;32m    118\u001b[0m             \u001b[0;32mfor\u001b[0m \u001b[0mcallback\u001b[0m \u001b[0;32min\u001b[0m \u001b[0mself\u001b[0m\u001b[0;34m.\u001b[0m\u001b[0m_after\u001b[0m\u001b[0;34m:\u001b[0m\u001b[0;34m\u001b[0m\u001b[0;34m\u001b[0m\u001b[0m\n\u001b[1;32m    119\u001b[0m                 \u001b[0mcallback\u001b[0m\u001b[0;34m.\u001b[0m\u001b[0m__get__\u001b[0m\u001b[0;34m(\u001b[0m\u001b[0mobj\u001b[0m\u001b[0;34m,\u001b[0m \u001b[0mobjtype\u001b[0m\u001b[0;34m)\u001b[0m\u001b[0;34m(\u001b[0m\u001b[0;34m*\u001b[0m\u001b[0margs\u001b[0m\u001b[0;34m,\u001b[0m \u001b[0;34m**\u001b[0m\u001b[0mkwargs\u001b[0m\u001b[0;34m)\u001b[0m\u001b[0;34m\u001b[0m\u001b[0;34m\u001b[0m\u001b[0m\n",
                        "\u001b[0;32m/opt/conda/envs/Python-3.9/lib/python3.9/site-packages/qiskit/utils/classtools.py\u001b[0m in \u001b[0;36mout\u001b[0;34m(*args, **kwargs)\u001b[0m\n\u001b[1;32m    114\u001b[0m         \u001b[0;32mdef\u001b[0m \u001b[0mout\u001b[0m\u001b[0;34m(\u001b[0m\u001b[0;34m*\u001b[0m\u001b[0margs\u001b[0m\u001b[0;34m,\u001b[0m \u001b[0;34m**\u001b[0m\u001b[0mkwargs\u001b[0m\u001b[0;34m)\u001b[0m\u001b[0;34m:\u001b[0m\u001b[0;34m\u001b[0m\u001b[0;34m\u001b[0m\u001b[0m\n\u001b[1;32m    115\u001b[0m             \u001b[0;32mfor\u001b[0m \u001b[0mcallback\u001b[0m \u001b[0;32min\u001b[0m \u001b[0mself\u001b[0m\u001b[0;34m.\u001b[0m\u001b[0m_before\u001b[0m\u001b[0;34m:\u001b[0m\u001b[0;34m\u001b[0m\u001b[0;34m\u001b[0m\u001b[0m\n\u001b[0;32m--> 116\u001b[0;31m                 \u001b[0mcallback\u001b[0m\u001b[0;34m.\u001b[0m\u001b[0m__get__\u001b[0m\u001b[0;34m(\u001b[0m\u001b[0mobj\u001b[0m\u001b[0;34m,\u001b[0m \u001b[0mobjtype\u001b[0m\u001b[0;34m)\u001b[0m\u001b[0;34m(\u001b[0m\u001b[0;34m*\u001b[0m\u001b[0margs\u001b[0m\u001b[0;34m,\u001b[0m \u001b[0;34m**\u001b[0m\u001b[0mkwargs\u001b[0m\u001b[0;34m)\u001b[0m\u001b[0;34m\u001b[0m\u001b[0;34m\u001b[0m\u001b[0m\n\u001b[0m\u001b[1;32m    117\u001b[0m             \u001b[0mretval\u001b[0m \u001b[0;34m=\u001b[0m \u001b[0mmethod\u001b[0m\u001b[0;34m(\u001b[0m\u001b[0;34m*\u001b[0m\u001b[0margs\u001b[0m\u001b[0;34m,\u001b[0m \u001b[0;34m**\u001b[0m\u001b[0mkwargs\u001b[0m\u001b[0;34m)\u001b[0m\u001b[0;34m\u001b[0m\u001b[0;34m\u001b[0m\u001b[0m\n\u001b[1;32m    118\u001b[0m             \u001b[0;32mfor\u001b[0m \u001b[0mcallback\u001b[0m \u001b[0;32min\u001b[0m \u001b[0mself\u001b[0m\u001b[0;34m.\u001b[0m\u001b[0m_after\u001b[0m\u001b[0;34m:\u001b[0m\u001b[0;34m\u001b[0m\u001b[0;34m\u001b[0m\u001b[0m\n",
                        "\u001b[0;32m/opt/conda/envs/Python-3.9/lib/python3.9/site-packages/qiskit/utils/lazy_tester.py\u001b[0m in \u001b[0;36m__call__\u001b[0;34m(self, *_args, **_kwargs)\u001b[0m\n\u001b[1;32m     37\u001b[0m \u001b[0;34m\u001b[0m\u001b[0m\n\u001b[1;32m     38\u001b[0m     \u001b[0;32mdef\u001b[0m \u001b[0m__call__\u001b[0m\u001b[0;34m(\u001b[0m\u001b[0mself\u001b[0m\u001b[0;34m,\u001b[0m \u001b[0;34m*\u001b[0m\u001b[0m_args\u001b[0m\u001b[0;34m,\u001b[0m \u001b[0;34m**\u001b[0m\u001b[0m_kwargs\u001b[0m\u001b[0;34m)\u001b[0m\u001b[0;34m:\u001b[0m\u001b[0;34m\u001b[0m\u001b[0;34m\u001b[0m\u001b[0m\n\u001b[0;32m---> 39\u001b[0;31m         \u001b[0mself\u001b[0m\u001b[0;34m.\u001b[0m\u001b[0m_tester\u001b[0m\u001b[0;34m.\u001b[0m\u001b[0mrequire_now\u001b[0m\u001b[0;34m(\u001b[0m\u001b[0mself\u001b[0m\u001b[0;34m.\u001b[0m\u001b[0m_feature\u001b[0m\u001b[0;34m)\u001b[0m\u001b[0;34m\u001b[0m\u001b[0;34m\u001b[0m\u001b[0m\n\u001b[0m\u001b[1;32m     40\u001b[0m \u001b[0;34m\u001b[0m\u001b[0m\n\u001b[1;32m     41\u001b[0m \u001b[0;34m\u001b[0m\u001b[0m\n",
                        "\u001b[0;32m/opt/conda/envs/Python-3.9/lib/python3.9/site-packages/qiskit/utils/lazy_tester.py\u001b[0m in \u001b[0;36mrequire_now\u001b[0;34m(self, feature)\u001b[0m\n\u001b[1;32m    221\u001b[0m         \u001b[0;32mif\u001b[0m \u001b[0mself\u001b[0m\u001b[0;34m:\u001b[0m\u001b[0;34m\u001b[0m\u001b[0;34m\u001b[0m\u001b[0m\n\u001b[1;32m    222\u001b[0m             \u001b[0;32mreturn\u001b[0m\u001b[0;34m\u001b[0m\u001b[0;34m\u001b[0m\u001b[0m\n\u001b[0;32m--> 223\u001b[0;31m         raise MissingOptionalLibraryError(\n\u001b[0m\u001b[1;32m    224\u001b[0m             \u001b[0mlibname\u001b[0m\u001b[0;34m=\u001b[0m\u001b[0mself\u001b[0m\u001b[0;34m.\u001b[0m\u001b[0m_name\u001b[0m\u001b[0;34m,\u001b[0m \u001b[0mname\u001b[0m\u001b[0;34m=\u001b[0m\u001b[0mfeature\u001b[0m\u001b[0;34m,\u001b[0m \u001b[0mpip_install\u001b[0m\u001b[0;34m=\u001b[0m\u001b[0mself\u001b[0m\u001b[0;34m.\u001b[0m\u001b[0m_install\u001b[0m\u001b[0;34m,\u001b[0m \u001b[0mmsg\u001b[0m\u001b[0;34m=\u001b[0m\u001b[0mself\u001b[0m\u001b[0;34m.\u001b[0m\u001b[0m_msg\u001b[0m\u001b[0;34m\u001b[0m\u001b[0;34m\u001b[0m\u001b[0m\n\u001b[1;32m    225\u001b[0m         )\n",
                        "\u001b[0;31mMissingOptionalLibraryError\u001b[0m: \"The 'pylatexenc' library is required to use 'MatplotlibDrawer'. You can install it with 'pip install pylatexenc'.\""
                    ]
                }
            ],
            "source": "qc = QuantumCircuit(4, 3)\n# qc.x(3)\n\nfor qubit in range(4):\n    qc.h(qubit)\n\nqc.barrier() \n\nqc.cnot(0,1)\nqc.cnot(1,2)\nqc.cnot(2,3)\nqc.rz(math.pi/4,3)\nqc.cnot(2,3)\nqc.cnot(1,2)\nqc.cnot(0,1)\n\nqc.barrier() \n\nfor qubit in range(4):\n    qc.h(qubit)\n\nqc.draw('mpl')\n"
        },
        {
            "cell_type": "code",
            "execution_count": 33,
            "metadata": {},
            "outputs": [
                {
                    "name": "stdout",
                    "output_type": "stream",
                    "text": "Qubit State = Statevector([ 9.23879533e-01-2.01185505e-16j,\n              3.29455587e-17+6.70078871e-17j,\n              7.28581877e-18+6.84167385e-17j,\n              4.93132007e-19-2.53745237e-17j,\n              1.04452190e-17+6.84167385e-17j,\n              4.93132007e-19-8.12941988e-18j,\n              2.38105196e-18-3.71601296e-18j,\n              6.68063026e-18-7.91617336e-17j,\n              2.11636066e-17+6.84167385e-17j,\n              4.93132007e-19-8.12941988e-18j,\n              2.38105196e-18-3.71601296e-18j,\n              6.68063026e-18-1.02657158e-16j,\n             -1.62588398e-17-3.71601296e-18j,\n              6.68063026e-18-7.91617336e-17j,\n             -1.38777878e-17-7.69339376e-17j,\n             -1.16230748e-16-3.82683432e-01j],\n            dims=(2, 2, 2, 2))\n"
                }
            ],
            "source": "backend = Aer.get_backend('statevector_simulator') # Tell Qiskit how to simulate our circuit\n\nstate = execute(qc, backend).result().get_statevector()\nprint(\"Qubit State = \" + str(state))\n"
        },
        {
            "cell_type": "markdown",
            "metadata": {},
            "source": "Notes: Fourier transform of the momentum operator is the position operator."
        }
    ],
    "metadata": {
        "kernelspec": {
            "display_name": "Python 3.9",
            "language": "python",
            "name": "python3"
        },
        "language_info": {
            "codemirror_mode": {
                "name": "ipython",
                "version": 3
            },
            "file_extension": ".py",
            "mimetype": "text/x-python",
            "name": "python",
            "nbconvert_exporter": "python",
            "pygments_lexer": "ipython3",
            "version": "3.9.7"
        }
    },
    "nbformat": 4,
    "nbformat_minor": 2
}