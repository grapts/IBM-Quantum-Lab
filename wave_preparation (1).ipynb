{
    "cells": [
        {
            "cell_type": "code",
            "execution_count": 1,
            "id": "40e9c95d-2df0-41af-8ea0-c9e67e8375ca",
            "metadata": {},
            "outputs": [
                {
                    "name": "stderr",
                    "output_type": "stream",
                    "text": "<frozen importlib._bootstrap>:219: RuntimeWarning: scipy._lib.messagestream.MessageStream size changed, may indicate binary incompatibility. Expected 56 from C header, got 64 from PyObject\n"
                }
            ],
            "source": "import numpy as np\n\n# Importing standard Qiskit libraries\nfrom qiskit import QuantumCircuit, transpile, Aer, IBMQ\nfrom qiskit.tools.jupyter import *\nfrom qiskit.visualization import *\nfrom ibm_quantum_widgets import *\nfrom qiskit.providers.aer import QasmSimulator\n\n# Loading your IBM Quantum account(s)\nprovider = IBMQ.load_account()"
        },
        {
            "cell_type": "code",
            "execution_count": 5,
            "id": "a5d90b2d-7132-4657-808c-8f3aee97631a",
            "metadata": {},
            "outputs": [],
            "source": "#Written by Graciana Puentes -Based on github by jcwang111\n#Increased precision \n# Preparation\nimport matplotlib.pyplot as plt\nimport numpy as np\nfrom numpy import sqrt, sin, cos, pi, arccos\nimport scipy.integrate as integrate\nimport scipy.special as special\n\nimport math\n\nfrom qiskit import IBMQ, Aer\nfrom qiskit import QuantumCircuit, ClassicalRegister, QuantumRegister, execute\nfrom qiskit.visualization import plot_histogram, plot_bloch_vector\nfrom qiskit.quantum_info import Statevector\nfrom qiskit.circuit.library import RXGate"
        },
        {
            "cell_type": "code",
            "execution_count": 6,
            "id": "c2cac5b6-fc8d-43d8-8d4d-8fc71df4c845",
            "metadata": {},
            "outputs": [],
            "source": "# Helper Functions \n\ndef get_histogram(qc, shots=5000):\n    backend = Aer.get_backend('qasm_simulator')\n    job = execute(qc, backend, shots=shots)\n    result = job.result()\n    return result.get_counts()\n\n# Norm(0, 1)\ndef norm(x):\n    return (1/sqrt(2*pi))*np.exp(-x**2/2) "
        },
        {
            "cell_type": "code",
            "execution_count": 8,
            "id": "c1fe3f39-9390-47b8-ad20-4850571e2f3d",
            "metadata": {},
            "outputs": [
                {
                    "data": {
                        "image/png": "[encoded data removed]",
                        "text/plain": "<Figure size 504x360 with 1 Axes>"
                    },
                    "execution_count": 8,
                    "metadata": {},
                    "output_type": "execute_result"
                }
            ],
            "source": "## TODO: \n#  - Figure out how to plot the 0 values too \n#  - Resolve the weird permutation stuff that's happening\n\ndef GRA(n, dist, a, b):\n    \"\"\"\n    Grover Rudolph Wavefunction Preparation\n    \n    n: Number of qubits (precision)\n    dist: Distribution (must be log-concave)\n    a, b: Range of distribution\n    \"\"\"\n    R = b - a\n    F = []     # cos^2(angle) vector\n    T = []     # Angle vector\n    P = []     # Probability vector\n    \n    # Prepare the necessary vectors that store the probability of each wave in a given interval. \n    for m in range(0,n+1):\n        F.append([])\n        T.append([])\n        P.append([])\n        # Append array of size 2**m to each vector\n        for i in range(0, 2**m):\n            num_LB = a + (R / 2**m) * i       # Numerator lower bound\n            num_UB = num_LB + (R / 2**(m+1))  # Numerator upper bound\n            den_LB = a + (R / 2**m) * i       # Denominator lower bound\n            den_UB = a + (R / 2**m) * (i+1)   # Denominator lower bound\n            f = integrate.quad(dist, num_LB, num_UB)[0] / integrate.quad(dist, den_LB, den_UB)[0]\n            t = arccos(sqrt(f))\n            p = integrate.quad(dist, den_LB, den_UB)[0]\n            F[m].append(f)\n            T[m].append(t)\n            P[m].append(p)\n            \n    # Construct the circuit\n    qr = QuantumRegister(n,'q')\n    cr = ClassicalRegister(n,'c')\n    qc = QuantumCircuit(qr, cr)\n    \n    qc.rx(2*T[0][0], 0)\n    \n    for m in range(1, n):\n        qc.barrier()\n        control_qubits = []\n        for i in range(0, m):\n            control_qubits.append(qr[i])\n        for i in range(0, 2**m):\n            for j in range(0, m):\n                if i & int(2**(j)) == False:\n                    qc.x(m - j - 1)\n                else:\n                    pass\n            qc.mcrx(2*T[m][i], control_qubits, qr[m])\n            for j in range(0, m):\n                if i & int(2**(j)) == False:\n                    qc.x(m - j - 1)\n    \n    if (n % 2 == 0):\n        for i in range(0, n//2):\n            qc.swap(i, n-i-1)\n    else:\n        for i in range(0, (n-1)//2):\n            qc.swap(i, n-i-1)\n#     qc.swap(0, 3)\n#     qc.swap(1, 2)\n    return (qc, P)\n\nn=7\n(qc, P) = GRA(n, norm, 0, 24)\nqr = QuantumRegister(n,'q')\ncr = ClassicalRegister(n,'c')\nqc.measure(qr,cr)\n# print(P[-1])\n\nplot_histogram(get_histogram(qc))\n# qc.draw()"
        },
        {
            "cell_type": "code",
            "execution_count": null,
            "id": "704bcc0a-97f2-4961-8043-f529dc91adb3",
            "metadata": {},
            "outputs": [],
            "source": ""
        }
    ],
    "metadata": {
        "kernelspec": {
            "display_name": "Python 3 (ipykernel)",
            "language": "python",
            "name": "python3"
        },
        "language_info": {
            "codemirror_mode": {
                "name": "ipython",
                "version": 3
            },
            "file_extension": ".py",
            "mimetype": "text/x-python",
            "name": "python",
            "nbconvert_exporter": "python",
            "pygments_lexer": "ipython3",
            "version": "3.8.13"
        },
        "widgets": {
            "application/vnd.jupyter.widget-state+json": {
                "state": {
                    "030e5f5c509c49a8ab061bf6cf32910d": {
                        "model_module": "@jupyter-widgets/controls",
                        "model_module_version": "1.5.0",
                        "model_name": "DescriptionStyleModel",
                        "state": {
                            "description_width": ""
                        }
                    },
                    "0e5861e5dc9a4ee7bf3c0f97f06256ae": {
                        "model_module": "@jupyter-widgets/controls",
                        "model_module_version": "1.5.0",
                        "model_name": "DescriptionStyleModel",
                        "state": {
                            "description_width": ""
                        }
                    },
                    "295c77af4d33476cbf95eeb0e72e0840": {
                        "model_module": "@jupyter-widgets/controls",
                        "model_module_version": "1.5.0",
                        "model_name": "HTMLModel",
                        "state": {
                            "layout": "IPY_MODEL_cfd8d79e4c624d38810a4abc2aec48c4",
                            "style": "IPY_MODEL_0e5861e5dc9a4ee7bf3c0f97f06256ae",
                            "value": "<h5>Queue</h5>"
                        }
                    },
                    "2a1f11f22006410eab4e40ffd4a8b9b6": {
                        "model_module": "@jupyter-widgets/base",
                        "model_module_version": "1.2.0",
                        "model_name": "LayoutModel",
                        "state": {
                            "margin": "0px 0px 0px 37px",
                            "width": "600px"
                        }
                    },
                    "2b038225803e4d678d1ffb7f230b6b96": {
                        "model_module": "@jupyter-widgets/controls",
                        "model_module_version": "1.5.0",
                        "model_name": "DescriptionStyleModel",
                        "state": {
                            "description_width": ""
                        }
                    },
                    "3e07ce38091f4070a23646cd61632b61": {
                        "model_module": "@jupyter-widgets/controls",
                        "model_module_version": "1.5.0",
                        "model_name": "DescriptionStyleModel",
                        "state": {
                            "description_width": ""
                        }
                    },
                    "562a1058a7a44d4684869e32b9ec2037": {
                        "model_module": "@jupyter-widgets/base",
                        "model_module_version": "1.2.0",
                        "model_name": "LayoutModel",
                        "state": {
                            "width": "95px"
                        }
                    },
                    "5aa40ce32dca400c9c9e422d6e044400": {
                        "model_module": "@jupyter-widgets/controls",
                        "model_module_version": "1.5.0",
                        "model_name": "HTMLModel",
                        "state": {
                            "layout": "IPY_MODEL_fbc8649f00b440e384ddca44de3665eb",
                            "style": "IPY_MODEL_2b038225803e4d678d1ffb7f230b6b96",
                            "value": "<h5>Backend</h5>"
                        }
                    },
                    "61a6106348f94e1ab0275aa090e41942": {
                        "model_module": "@jupyter-widgets/base",
                        "model_module_version": "1.2.0",
                        "model_name": "LayoutModel",
                        "state": {}
                    },
                    "69091832df904bb89ca43ce2e2abbeb4": {
                        "model_module": "@jupyter-widgets/base",
                        "model_module_version": "1.2.0",
                        "model_name": "LayoutModel",
                        "state": {
                            "grid_template_areas": "\n                                       \". . . . right \"\n                                        ",
                            "grid_template_columns": "20% 20% 20% 20% 20%",
                            "width": "100%"
                        }
                    },
                    "7881adb52aa74972bdeecf0e7c1b6296": {
                        "model_module": "@jupyter-widgets/controls",
                        "model_module_version": "1.5.0",
                        "model_name": "HTMLModel",
                        "state": {
                            "layout": "IPY_MODEL_fc19a25481d9414aa538e03171142eb5",
                            "style": "IPY_MODEL_3e07ce38091f4070a23646cd61632b61",
                            "value": "<p style='font-family: IBM Plex Sans, Arial, Helvetica, sans-serif; font-size: 20px; font-weight: medium;'>Circuit Properties</p>"
                        }
                    },
                    "855938a4e4be4f1a972abe35019d9421": {
                        "model_module": "@jupyter-widgets/controls",
                        "model_module_version": "1.5.0",
                        "model_name": "DescriptionStyleModel",
                        "state": {
                            "description_width": ""
                        }
                    },
                    "86f82e5760634fefb505f95133b1e9fc": {
                        "model_module": "@jupyter-widgets/controls",
                        "model_module_version": "1.5.0",
                        "model_name": "ButtonStyleModel",
                        "state": {}
                    },
                    "95856e5b4b2d487aa52a304846818a2b": {
                        "model_module": "@jupyter-widgets/base",
                        "model_module_version": "1.2.0",
                        "model_name": "LayoutModel",
                        "state": {
                            "width": "190px"
                        }
                    },
                    "9892b30c9f1e42bea89f356df327bce6": {
                        "model_module": "@jupyter-widgets/controls",
                        "model_module_version": "1.5.0",
                        "model_name": "HTMLModel",
                        "state": {
                            "layout": "IPY_MODEL_61a6106348f94e1ab0275aa090e41942",
                            "style": "IPY_MODEL_cc2c3d7bc2444a3cbd00b95022cb6f2d",
                            "value": "<h5>Message</h5>"
                        }
                    },
                    "9c9a6ad238274f3c82fe9979ff471b6d": {
                        "model_module": "@jupyter-widgets/controls",
                        "model_module_version": "1.5.0",
                        "model_name": "ButtonModel",
                        "state": {
                            "button_style": "primary",
                            "description": "Clear",
                            "layout": "IPY_MODEL_cf788955afc345069b8d5ddaa5f1aef6",
                            "style": "IPY_MODEL_86f82e5760634fefb505f95133b1e9fc"
                        }
                    },
                    "9d4e089087cb4cb197b4c42cdfcb0c7d": {
                        "model_module": "@jupyter-widgets/controls",
                        "model_module_version": "1.5.0",
                        "model_name": "HBoxModel",
                        "state": {
                            "children": [
                                "IPY_MODEL_d69951b1a3b74bf38587fe1956c5041e",
                                "IPY_MODEL_5aa40ce32dca400c9c9e422d6e044400",
                                "IPY_MODEL_de57f5ba1a82489b89681f52a5edf7bd",
                                "IPY_MODEL_295c77af4d33476cbf95eeb0e72e0840",
                                "IPY_MODEL_9892b30c9f1e42bea89f356df327bce6"
                            ],
                            "layout": "IPY_MODEL_2a1f11f22006410eab4e40ffd4a8b9b6"
                        }
                    },
                    "c9a5c47f21e14d6183191c0e7f56923c": {
                        "model_module": "@jupyter-widgets/controls",
                        "model_module_version": "1.5.0",
                        "model_name": "GridBoxModel",
                        "state": {
                            "children": [
                                "IPY_MODEL_9c9a6ad238274f3c82fe9979ff471b6d"
                            ],
                            "layout": "IPY_MODEL_69091832df904bb89ca43ce2e2abbeb4"
                        }
                    },
                    "cc2c3d7bc2444a3cbd00b95022cb6f2d": {
                        "model_module": "@jupyter-widgets/controls",
                        "model_module_version": "1.5.0",
                        "model_name": "DescriptionStyleModel",
                        "state": {
                            "description_width": ""
                        }
                    },
                    "cf788955afc345069b8d5ddaa5f1aef6": {
                        "model_module": "@jupyter-widgets/base",
                        "model_module_version": "1.2.0",
                        "model_name": "LayoutModel",
                        "state": {
                            "grid_area": "right",
                            "padding": "0px 0px 0px 0px",
                            "width": "70px"
                        }
                    },
                    "cfd8d79e4c624d38810a4abc2aec48c4": {
                        "model_module": "@jupyter-widgets/base",
                        "model_module_version": "1.2.0",
                        "model_name": "LayoutModel",
                        "state": {
                            "width": "70px"
                        }
                    },
                    "d69951b1a3b74bf38587fe1956c5041e": {
                        "model_module": "@jupyter-widgets/controls",
                        "model_module_version": "1.5.0",
                        "model_name": "HTMLModel",
                        "state": {
                            "layout": "IPY_MODEL_95856e5b4b2d487aa52a304846818a2b",
                            "style": "IPY_MODEL_855938a4e4be4f1a972abe35019d9421",
                            "value": "<h5>Job ID</h5>"
                        }
                    },
                    "de57f5ba1a82489b89681f52a5edf7bd": {
                        "model_module": "@jupyter-widgets/controls",
                        "model_module_version": "1.5.0",
                        "model_name": "HTMLModel",
                        "state": {
                            "layout": "IPY_MODEL_562a1058a7a44d4684869e32b9ec2037",
                            "style": "IPY_MODEL_030e5f5c509c49a8ab061bf6cf32910d",
                            "value": "<h5>Status</h5>"
                        }
                    },
                    "fbc8649f00b440e384ddca44de3665eb": {
                        "model_module": "@jupyter-widgets/base",
                        "model_module_version": "1.2.0",
                        "model_name": "LayoutModel",
                        "state": {
                            "width": "145px"
                        }
                    },
                    "fc19a25481d9414aa538e03171142eb5": {
                        "model_module": "@jupyter-widgets/base",
                        "model_module_version": "1.2.0",
                        "model_name": "LayoutModel",
                        "state": {
                            "margin": "0px 0px 10px 0px"
                        }
                    }
                },
                "version_major": 2,
                "version_minor": 0
            }
        }
    },
    "nbformat": 4,
    "nbformat_minor": 5
}